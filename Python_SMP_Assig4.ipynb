{
  "nbformat": 4,
  "nbformat_minor": 0,
  "metadata": {
    "colab": {
      "name": "Python_SMP_Assig4.ipynb",
      "provenance": [],
      "authorship_tag": "ABX9TyPNj++mzMjdC9+Plb77gRnO",
      "include_colab_link": true
    },
    "kernelspec": {
      "name": "python3",
      "display_name": "Python 3"
    },
    "language_info": {
      "name": "python"
    }
  },
  "cells": [
    {
      "cell_type": "markdown",
      "metadata": {
        "id": "view-in-github",
        "colab_type": "text"
      },
      "source": [
        "<a href=\"https://colab.research.google.com/github/GeethanjaliM30/Python-SMP-Assig/blob/main/Python_SMP_Assig4.ipynb\" target=\"_parent\"><img src=\"https://colab.research.google.com/assets/colab-badge.svg\" alt=\"Open In Colab\"/></a>"
      ]
    },
    {
      "cell_type": "markdown",
      "metadata": {
        "id": "YOpZ4SqNbDD_"
      },
      "source": [
        "Design a class called Car which has the attributes Model, Name, Year, Color and\n",
        "Horsepower (Assume the Data Types accordingly).\n",
        "Write the Initialisation function and also write functions to:\n",
        "● Display all the attributes of the car\n",
        "● Change the name of the car\n",
        "● Change the color of the car"
      ]
    },
    {
      "cell_type": "code",
      "metadata": {
        "id": "ylsrBUuqZe6-"
      },
      "source": [
        "class Car:\n",
        "  wheels=4\n",
        "\n",
        "  def __init__(self,model,name,year,color,horsepower):\n",
        "    print(\"Car: \")\n",
        "    self.model=model\n",
        "    self.name=name\n",
        "    self.year=year\n",
        "    self.color=color\n",
        "    self.horsepower=horsepower\n",
        "\n",
        "  def attributes(self):\n",
        "    print(\"Car attributes :\", self.model,self.name,self.year,self.color,self.horsepower,sep=\",\")  \n",
        "\n",
        "  def updatename(self,name):\n",
        "   self.name=name\n",
        "\n",
        "  def updatecolor(self,color):\n",
        "    self.color=color"
      ],
      "execution_count": 12,
      "outputs": []
    },
    {
      "cell_type": "code",
      "metadata": {
        "colab": {
          "base_uri": "https://localhost:8080/"
        },
        "id": "WWsiOz3pfTdb",
        "outputId": "f32acc8b-d521-482f-93ed-0960b6a9188f"
      },
      "source": [
        "car=Car(\"J200 Series\",\"LandCruiser\",2007,\"White\",78)\n",
        "\n",
        "car.attributes()\n",
        "car.updatename(\"Cruiser\")\n",
        "car.attributes()\n",
        "car.updatecolor(\"Balck\")\n",
        "car.attributes()"
      ],
      "execution_count": 13,
      "outputs": [
        {
          "output_type": "stream",
          "text": [
            "Car: \n",
            "Car attributes :,J200 Series,LandCruiser,2007,White,78\n",
            "Car attributes :,J200 Series,Cruiser,2007,White,78\n",
            "Car attributes :,J200 Series,Cruiser,2007,Balck,78\n"
          ],
          "name": "stdout"
        }
      ]
    },
    {
      "cell_type": "markdown",
      "metadata": {
        "id": "gz_7Bmy3f6fi"
      },
      "source": [
        "Split a string of your choice after every 3 characters and then join the split strings back in a\n",
        "random order (as in each time the join command is run the output, or order of the joined string,\n",
        "should be different).\n",
        "Example: If the string is 'Coding is fun', after splitting it’ll look like this - 'Cod', 'ing', '\n",
        "is', ' fu', 'n', and after joining it back it’ll look like this - 'Cod isn fuing'"
      ]
    },
    {
      "cell_type": "code",
      "metadata": {
        "colab": {
          "base_uri": "https://localhost:8080/"
        },
        "id": "mX8gmhXmf_MP",
        "outputId": "9cc6c48b-afce-415f-d077-c11dd95dd6e1"
      },
      "source": [
        "mainstr=\"Coding is fun\"\n",
        "str=[mainstr[i:i+3] for i in range(0,len(mainstr),3)]\n",
        "print(str)\n",
        "print(\" \".join(set(str)))"
      ],
      "execution_count": 16,
      "outputs": [
        {
          "output_type": "stream",
          "text": [
            "['Cod', 'ing', ' is', ' fu', 'n']\n",
            "n  fu  is ing Cod\n"
          ],
          "name": "stdout"
        }
      ]
    },
    {
      "cell_type": "markdown",
      "metadata": {
        "id": "5j2AXsE0gjgI"
      },
      "source": [
        "Create a class Students which has attributes RollNo, PhoneNo, Grade (like 5th grade or 6th\n",
        "grade etc), Name. Make another class called Sports which inherits from Students class. This\n",
        "new class has all the previous attributes along with the Sport attribute (Assume the Data Types\n",
        "accordingly).\n",
        "● Display all the attributes of students\n",
        "● Display the Sport a student plays\n",
        "● Change the PhoneNo of a student and show the change\n",
        "● Change the Sport of a student and show the change\n",
        "● Delete a student from the Sports class and display the message '<student name>\n",
        "doesn't play sports anymore."
      ]
    },
    {
      "cell_type": "code",
      "metadata": {
        "id": "UvW5s3fwhx09"
      },
      "source": [
        "class Student:\n",
        "  def __init__(self, rollNo, phoneNo, Grade, Name):\n",
        "    print(\"Student info\")\n",
        "    self.rollNo = rollNo\n",
        "    self.phoneNo = phoneNo\n",
        "    self.Grade = Grade\n",
        "    self.Name = Name\n",
        "  def info(self):\n",
        "    print(\"Name:\", self.Name, \"\\nGrade:\",self.Grade,\"\\nrollNo:\",self.rollNo,\"\\nphoneNo:\",self.phoneNo)"
      ],
      "execution_count": 22,
      "outputs": []
    },
    {
      "cell_type": "code",
      "metadata": {
        "colab": {
          "base_uri": "https://localhost:8080/"
        },
        "id": "7yPO1xMVhyvS",
        "outputId": "9ee665a5-2f9c-42c1-9524-9057bdfd1f21"
      },
      "source": [
        "s1 = Student(341,509781806,\"Grade 10\",\"Abinav\")\n",
        "s1.info()"
      ],
      "execution_count": 34,
      "outputs": [
        {
          "output_type": "stream",
          "text": [
            "Student info\n",
            "Name: Abinav \n",
            "Grade: Grade 10 \n",
            "Roll: 341 \n",
            "Phone: 509781806\n"
          ],
          "name": "stdout"
        }
      ]
    },
    {
      "cell_type": "code",
      "metadata": {
        "id": "vOZZFd5Vh5qo"
      },
      "source": [
        "\n",
        "class sport(student):\n",
        "  def __init__(self, rollNo, PhoneNo, Grade,Name,sport):\n",
        "    print(\"Student Profile\")\n",
        "    self.rollNo=rollNo\n",
        "    self.PhoneNo=PhoneNo\n",
        "    self.Grade=Grade\n",
        "    self.Name=Name\n",
        "    self.sport=sport\n",
        "\n",
        "  def game(self):\n",
        "    print(\"Sport played by \"+self.Name+\" is \"+self.sport)  \n",
        "\n",
        "  def change_phoneno(self,PhoneNo):\n",
        "    self.PhoneNo=PhoneNo\n",
        "\n",
        "  def change_sport(self,sport):\n",
        "    self.sport=sport   \n",
        "\n",
        "  def __del__(self):\n",
        "    print(self.Name+\" doesn't play sports anymore\")"
      ],
      "execution_count": 32,
      "outputs": []
    },
    {
      "cell_type": "code",
      "metadata": {
        "id": "7T02TPrjiUR_"
      },
      "source": [
        "stud=sport(342,509781806,\"Grade 9 \",\"Abinav\",\"Football\")\n",
        "\n",
        "stud.game()\n",
        "print(\"Updated\")\n",
        "stud.change_phoneno(506942134)\n",
        "stud.profile()"
      ],
      "execution_count": null,
      "outputs": []
    },
    {
      "cell_type": "code",
      "metadata": {
        "id": "wj44l7c1iU8A"
      },
      "source": [
        "print(\"Updated\")\n",
        "stud.change_sport(\"Chess\")\n",
        "stud.game()"
      ],
      "execution_count": null,
      "outputs": []
    },
    {
      "cell_type": "code",
      "metadata": {
        "id": "fwIHv_9QiX_a"
      },
      "source": [
        "del stud"
      ],
      "execution_count": null,
      "outputs": []
    }
  ]
}