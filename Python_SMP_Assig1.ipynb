{
  "nbformat": 4,
  "nbformat_minor": 0,
  "metadata": {
    "colab": {
      "name": "Python-SMP-Assig1.ipynb",
      "provenance": [],
      "collapsed_sections": []
    },
    "kernelspec": {
      "name": "python3",
      "display_name": "Python 3"
    },
    "language_info": {
      "name": "python"
    }
  },
  "cells": [
    {
      "cell_type": "markdown",
      "metadata": {
        "id": "LTvVUzTs9YDw"
      },
      "source": [
        "Q1. What is 7.3 plus 5+4j?"
      ]
    },
    {
      "cell_type": "code",
      "metadata": {
        "colab": {
          "base_uri": "https://localhost:8080/"
        },
        "id": "GDlx7Vaj7iH7",
        "outputId": "f00d657c-8004-46d0-c064-7e10c2e24421"
      },
      "source": [
        "x = 5+4j\n",
        "y = x + 7.3\n",
        "print(y)"
      ],
      "execution_count": 1,
      "outputs": [
        {
          "output_type": "stream",
          "text": [
            "(12.3+4j)\n"
          ],
          "name": "stdout"
        }
      ]
    },
    {
      "cell_type": "markdown",
      "metadata": {
        "id": "qg6PGXvd9PJb"
      },
      "source": [
        "Q1. Are 4e4 and 4E4 same? Check using a python operator.\n",
        "\n",
        "It does not matter if you use e or E, both are the same thing , called exponent. "
      ]
    },
    {
      "cell_type": "code",
      "metadata": {
        "colab": {
          "base_uri": "https://localhost:8080/"
        },
        "id": "hUSHN1MZ7lPf",
        "outputId": "85944c72-153c-4a2f-87c5-d24abe520d7d"
      },
      "source": [
        "a = 4e4\n",
        "b = 4E4\n",
        "if a == b :\n",
        "  print (\"they are the same\")\n",
        "else :\n",
        "  print (\"they are not the same\")"
      ],
      "execution_count": 8,
      "outputs": [
        {
          "output_type": "stream",
          "text": [
            "they are not the same\n"
          ],
          "name": "stdout"
        }
      ]
    },
    {
      "cell_type": "markdown",
      "metadata": {
        "id": "0VSQ3vph-OJF"
      },
      "source": [
        "Q1. if c = 3 + 5j, store it’s real and imaginary parts into r and i variables\n",
        "respectively."
      ]
    },
    {
      "cell_type": "code",
      "metadata": {
        "colab": {
          "base_uri": "https://localhost:8080/"
        },
        "id": "i7sN5TpE-Mkd",
        "outputId": "a96fce42-4fee-46b6-9798-914ea58b88f2"
      },
      "source": [
        "c = 3+5j\n",
        "r = c.real\n",
        "i = c.imag\n",
        "print (\"the real part of c is \",r)\n",
        "print(\"the imaginary part of c is \",i)"
      ],
      "execution_count": 13,
      "outputs": [
        {
          "output_type": "stream",
          "text": [
            "the real part of c is  3.0\n",
            "the imaginary part of c is  5.0\n"
          ],
          "name": "stdout"
        }
      ]
    },
    {
      "cell_type": "markdown",
      "metadata": {
        "id": "gOzkWJ3XAC3N"
      },
      "source": [
        "q1. Call the euler’s number e and truncate the decimal part of the number and store\n",
        "that into a variable."
      ]
    },
    {
      "cell_type": "code",
      "metadata": {
        "colab": {
          "base_uri": "https://localhost:8080/"
        },
        "id": "g1eK_1uHABJ5",
        "outputId": "3f058599-c41f-4f89-c3fb-a604bcaa135f"
      },
      "source": [
        "import math\n",
        "E = math.exp(1)\n",
        "print(E)\n",
        "print(int(E))"
      ],
      "execution_count": 14,
      "outputs": [
        {
          "output_type": "stream",
          "text": [
            "2.718281828459045\n",
            "2\n"
          ],
          "name": "stdout"
        }
      ]
    },
    {
      "cell_type": "markdown",
      "metadata": {
        "id": "1aaLrKXvEW47"
      },
      "source": [
        "Q2. Pass a dictionary into a function and print the elements of the dictionary."
      ]
    },
    {
      "cell_type": "code",
      "metadata": {
        "colab": {
          "base_uri": "https://localhost:8080/"
        },
        "id": "XTBv5X5iEWL7",
        "outputId": "040b7902-d8c3-4281-bafb-c1c77af53cf7"
      },
      "source": [
        "def function (**a):\n",
        "  print(a)\n",
        "function (red=\"#FF0000\",blue=\"#0000FF\",green=\"#008000\")"
      ],
      "execution_count": 17,
      "outputs": [
        {
          "output_type": "stream",
          "text": [
            "{'red': '#FF0000', 'blue': '#0000FF', 'green': '#008000'}\n"
          ],
          "name": "stdout"
        }
      ]
    },
    {
      "cell_type": "markdown",
      "metadata": {
        "id": "vk8l5uWgFY26"
      },
      "source": [
        "Q3. Print the factorial of a user input number."
      ]
    },
    {
      "cell_type": "code",
      "metadata": {
        "colab": {
          "base_uri": "https://localhost:8080/"
        },
        "id": "DH8azNEzFVR_",
        "outputId": "8b80b4f3-acbf-443e-ca61-b8900d6eb1f0"
      },
      "source": [
        "n = int(input(\"Enter value for n: \"))\n",
        "x=1\n",
        "while(n>1):\n",
        "  x=n*x\n",
        "  n-=1\n",
        "print(x)"
      ],
      "execution_count": 18,
      "outputs": [
        {
          "output_type": "stream",
          "text": [
            "Enter value for n: 3\n",
            "6\n"
          ],
          "name": "stdout"
        }
      ]
    },
    {
      "cell_type": "markdown",
      "metadata": {
        "id": "CMKaocqMGC53"
      },
      "source": [
        "Q4. Print a Fibonacci series upto the given number."
      ]
    },
    {
      "cell_type": "code",
      "metadata": {
        "colab": {
          "base_uri": "https://localhost:8080/"
        },
        "id": "Mlu-XRnZF-bT",
        "outputId": "c2162b11-2008-4ff5-fff7-e5d157060f3a"
      },
      "source": [
        "n = int(input(\"Enter the number of terms: \"))\n",
        "n1=0\n",
        "n2=1\n",
        "Sum=0\n",
        "i=1\n",
        "print(\"The fibonacci series-\")\n",
        "while(i<=n):\n",
        "  print(Sum)\n",
        "  n1=n2\n",
        "  n2=Sum\n",
        "  Sum=n1+n2\n",
        "  i=i+1"
      ],
      "execution_count": 19,
      "outputs": [
        {
          "output_type": "stream",
          "text": [
            "Enter the number of terms: 10\n",
            "The fibonacci series-\n",
            "0\n",
            "1\n",
            "1\n",
            "2\n",
            "3\n",
            "5\n",
            "8\n",
            "13\n",
            "21\n",
            "34\n"
          ],
          "name": "stdout"
        }
      ]
    },
    {
      "cell_type": "markdown",
      "metadata": {
        "id": "h65jemavGh1G"
      },
      "source": [
        "Q5.Given an array of integers,find the sum of positive and negative numbers\n",
        "separately and print \"POSITIVE\" if sum of positive numbers is greater than the\n",
        "absolute value of the sum of negative numbers, else print \"NEGATIVE\"."
      ]
    },
    {
      "cell_type": "code",
      "metadata": {
        "colab": {
          "base_uri": "https://localhost:8080/"
        },
        "id": "J7_pP1DkGhSP",
        "outputId": "efcddf12-544b-42ce-b7b3-786b4201518c"
      },
      "source": [
        "A = []\n",
        "n = int(input(\"Enter total number of elements: \"))\n",
        "positive = 0\n",
        "negative = 0\n",
        "for i in range(0,n):  \n",
        " x = int(input(\"Enter element: \"))\n",
        " A.append(x)\n",
        "if(A[i]>=0):\n",
        "  positive = positive + A[i]\n",
        "else:\n",
        "  negative = negative + A[i]\n",
        "\n",
        "if(positive>abs(negative)):\n",
        "  print('POSITIVE')\n",
        "else:\n",
        "  print('NEGATIVE')"
      ],
      "execution_count": 24,
      "outputs": [
        {
          "output_type": "stream",
          "text": [
            "Enter total number of elements: 4\n",
            "Enter element: 10\n",
            "Enter element: -9\n",
            "Enter element: 7\n",
            "Enter element: 5\n",
            "POSITIVE\n"
          ],
          "name": "stdout"
        }
      ]
    },
    {
      "cell_type": "markdown",
      "metadata": {
        "id": "Uyj8XojZNnWL"
      },
      "source": [
        "Q6. Given a string, return a string of the same length where the vowels are in the first\n",
        "and the consonants are in the last. But the inner order of vowels and consonants\n",
        "should not change.\n",
        "ex:- \"hbefabjbaofb\" -> \"eaaohbfbjbfb\""
      ]
    },
    {
      "cell_type": "code",
      "metadata": {
        "colab": {
          "base_uri": "https://localhost:8080/"
        },
        "id": "BFvROvqrLtYc",
        "outputId": "efbc283b-afee-4cf7-b62d-1ac3916d540a"
      },
      "source": [
        "a=input('Enter a statement:  ')\n",
        "b=''\n",
        "c=''\n",
        "e=''\n",
        "for i in range(0,len(a)):\n",
        "  if(a[i]=='a' or a[i]=='e' or a[i]=='i' or a[i]=='o' or a[i]=='u' or a[i]=='A' or a[i]=='E' or a[i]=='I' or a[i]=='O' or a[i]=='U'):\n",
        "    b+=a[i]\n",
        "  else:\n",
        "    c+=a[i]\n",
        "\n",
        "e=b+c\n",
        "print(str(e))"
      ],
      "execution_count": 25,
      "outputs": [
        {
          "output_type": "stream",
          "text": [
            "Enter a statement:  i live in a pineapple under the sea\n",
            "iieiaieaeueeea lv n  pnppl ndr th s\n"
          ],
          "name": "stdout"
        }
      ]
    },
    {
      "cell_type": "markdown",
      "metadata": {
        "id": "O7XZlXDxhKjs"
      },
      "source": [
        "Q7. Write a code which returns the first m multiples of a natural number n, without\n",
        "using any loop."
      ]
    },
    {
      "cell_type": "code",
      "metadata": {
        "colab": {
          "base_uri": "https://localhost:8080/"
        },
        "id": "scc3lzMqhIME",
        "outputId": "95ec66c6-3ac0-4704-8c23-311169500a57"
      },
      "source": [
        "n=int(input('enter the number '))\n",
        "m=int(input('enter the number of multiples '))\n",
        "a=range(n,m*n+1,n)\n",
        "print(*a)"
      ],
      "execution_count": 26,
      "outputs": [
        {
          "output_type": "stream",
          "text": [
            "enter the number 33\n",
            "enter the number of multiples 6\n",
            "33 66 99 132 165 198\n"
          ],
          "name": "stdout"
        }
      ]
    }
  ]
}