{
  "nbformat": 4,
  "nbformat_minor": 0,
  "metadata": {
    "colab": {
      "name": "PythonSMPAssig3.ipynb",
      "provenance": [],
      "authorship_tag": "ABX9TyMqQLCZmnANRqbrLsd6gxr9",
      "include_colab_link": true
    },
    "kernelspec": {
      "name": "python3",
      "display_name": "Python 3"
    },
    "language_info": {
      "name": "python"
    }
  },
  "cells": [
    {
      "cell_type": "markdown",
      "metadata": {
        "id": "view-in-github",
        "colab_type": "text"
      },
      "source": [
        "<a href=\"https://colab.research.google.com/github/GeethanjaliM30/Python-SMP-Assig/blob/main/PythonSMPAssig3.ipynb\" target=\"_parent\"><img src=\"https://colab.research.google.com/assets/colab-badge.svg\" alt=\"Open In Colab\"/></a>"
      ]
    },
    {
      "cell_type": "markdown",
      "metadata": {
        "id": "hg2gnsGNnAXR"
      },
      "source": [
        "WAP to combine two dictionaries. In case, there are common keys in both dictionaries,\n",
        "add the values."
      ]
    },
    {
      "cell_type": "code",
      "metadata": {
        "colab": {
          "base_uri": "https://localhost:8080/"
        },
        "id": "eLj7EGxrm7wR",
        "outputId": "10d887d6-4a55-4fdd-f48e-6c3edd22caed"
      },
      "source": [
        "dictionary1 = {}\n",
        "\n",
        "n= int(input(\"Enter number of values in dictionary 1: \"))\n",
        "for i in range (n):\n",
        "  key = input(\"Enter key \")\n",
        "  value = input(\"Enter value \")\n",
        "  dictionary1[key]=value\n",
        "\n",
        "dictionary2 = {}\n",
        "\n",
        "n = int(input(\"Enter number of values in dictionary 2: \"))\n",
        "for i in range (n):\n",
        "  key = input(\"Enter key \")\n",
        "  value = input(\"Enter value \")\n",
        "  dictionary2[key]=value\n",
        "\n",
        "for key in dictionary2:\n",
        "    if key in dictionary1:\n",
        "        dictionary2[key] = dictionary2[key] + dictionary1[key]\n",
        "    else:\n",
        "        pass\n",
        "          \n",
        "print(dictionary2)"
      ],
      "execution_count": 2,
      "outputs": [
        {
          "output_type": "stream",
          "text": [
            "Enter number of values in dictionary 1: 5\n",
            "Enter key 1\n",
            "Enter value 33\n",
            "Enter key 2\n",
            "Enter value 4\n",
            "Enter key 3\n",
            "Enter value 55\n",
            "Enter key 4\n",
            "Enter value 7\n",
            "Enter key 5\n",
            "Enter value 8\n",
            "Enter number of values in dictionary 2: 6\n",
            "Enter key 1\n",
            "Enter value 33\n",
            "Enter key 2\n",
            "Enter value 55\n",
            "Enter key 3\n",
            "Enter value 9\n",
            "Enter key 4\n",
            "Enter value 10\n",
            "Enter key 5\n",
            "Enter value 7\n",
            "Enter key 6\n",
            "Enter value 11\n",
            "{'1': '3333', '2': '554', '3': '955', '4': '107', '5': '78', '6': '11'}\n"
          ],
          "name": "stdout"
        }
      ]
    },
    {
      "cell_type": "markdown",
      "metadata": {
        "id": "c9lbewtco94c"
      },
      "source": [
        "WAP to print the total number of occurrences(frequency) of every character in a string\n",
        "using python dictionaries."
      ]
    },
    {
      "cell_type": "code",
      "metadata": {
        "colab": {
          "base_uri": "https://localhost:8080/"
        },
        "id": "M009H30kpA9a",
        "outputId": "96e62963-bee0-4f52-9fe9-b25be8e92aa1"
      },
      "source": [
        "test_string = input('Enter a string: ')\n",
        "occurrence = {} \n",
        "  \n",
        "for char in test_string: \n",
        "   if char in occurrence: \n",
        "      occurrence[char] += 1\n",
        "   else: \n",
        "      occurrence[char] = 1\n",
        "\n",
        "\n",
        "print (\"Per char frequency in '{}' is :\\n {}\".format(test_string, str(occurrence)))"
      ],
      "execution_count": 4,
      "outputs": [
        {
          "output_type": "stream",
          "text": [
            "Enter a string:- hacoonamatata\n",
            "Per char frequency in 'hacoonamatata' is :\n",
            " {'h': 1, 'a': 5, 'c': 1, 'o': 2, 'n': 1, 'm': 1, 't': 2}\n"
          ],
          "name": "stdout"
        }
      ]
    },
    {
      "cell_type": "markdown",
      "metadata": {
        "id": "h0T7FP0lqVYc"
      },
      "source": [
        "Given a string, the task is to write a Python program to extract till all characters from\n",
        "other strings are found.\n",
        "String: An apple a day keeps the doctor away.\n",
        "Other string: water (stop at w)\n",
        "Output: An apple a day keeps the doctor a"
      ]
    },
    {
      "cell_type": "code",
      "metadata": {
        "colab": {
          "base_uri": "https://localhost:8080/"
        },
        "id": "izA_GWyAqZpo",
        "outputId": "bc5d6fdf-7e7d-48a3-f70f-d37db4badaf2"
      },
      "source": [
        "str1 = input(\"Enter string1:  \")\n",
        "str2 = input(\"Enter string2:  \")\n",
        "a = []\n",
        "\n",
        "for i in str2:\n",
        "    for j in range(len(str1)):\n",
        "        if(i==str1[j]):\n",
        "            a.append(j)\n",
        "            break\n",
        "        else:\n",
        "            continue\n",
        "\n",
        "m = max(a)\n",
        "print(str1[0:m])"
      ],
      "execution_count": 7,
      "outputs": [
        {
          "output_type": "stream",
          "text": [
            "Enter string1:  An apple a day keeps the doctor away. \n",
            "Enter string2:  water\n",
            "An apple a day keeps the doctor a\n"
          ],
          "name": "stdout"
        }
      ]
    },
    {
      "cell_type": "markdown",
      "metadata": {
        "id": "bPSCSKABrZ7F"
      },
      "source": [
        "Find all occurrences of ‘are’ in any string entered by the user and update the counter\n",
        "each time."
      ]
    },
    {
      "cell_type": "code",
      "metadata": {
        "colab": {
          "base_uri": "https://localhost:8080/"
        },
        "id": "7o0WSuGzraqI",
        "outputId": "60b0a652-db92-4354-8a0a-1d46e664881d"
      },
      "source": [
        "str1 = input(\"Enter string:  \")\n",
        "substring = \"are\"\n",
        "\n",
        "count = str1.count(substring)\n",
        "\n",
        "print(\"The number of times are comes is :\", count)"
      ],
      "execution_count": 8,
      "outputs": [
        {
          "output_type": "stream",
          "text": [
            "Enter string:  There are many books which include the word are, but books without are are very rare\n",
            "The number of times are comes is : 5\n"
          ],
          "name": "stdout"
        }
      ]
    }
  ]
}