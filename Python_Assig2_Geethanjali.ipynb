{
  "nbformat": 4,
  "nbformat_minor": 0,
  "metadata": {
    "colab": {
      "name": "Python Assig2 Geethanjali.ipynb",
      "provenance": [],
      "authorship_tag": "ABX9TyP4F7PQHC7ffgJVY+Gf+5rY",
      "include_colab_link": true
    },
    "kernelspec": {
      "name": "python3",
      "display_name": "Python 3"
    },
    "language_info": {
      "name": "python"
    }
  },
  "cells": [
    {
      "cell_type": "markdown",
      "metadata": {
        "id": "view-in-github",
        "colab_type": "text"
      },
      "source": [
        "<a href=\"https://colab.research.google.com/github/GeethanjaliM30/Python-SMP-Assig1/blob/main/Python_Assig2_Geethanjali.ipynb\" target=\"_parent\"><img src=\"https://colab.research.google.com/assets/colab-badge.svg\" alt=\"Open In Colab\"/></a>"
      ]
    },
    {
      "cell_type": "markdown",
      "metadata": {
        "id": "dPZhlxuvoY7B"
      },
      "source": [
        "Write a Python program to check if the elements of a given list are unique or not, by\n",
        "looping over the list.\n",
        "Eg1. Given list: [1,2,3,3,1,2,10], Answer: False\n",
        "Eg2. Given list: [5,4,3,2,1], Answer: True"
      ]
    },
    {
      "cell_type": "code",
      "metadata": {
        "colab": {
          "base_uri": "https://localhost:8080/"
        },
        "id": "IvKGIf5xoNin",
        "outputId": "b42b6131-bb3e-41bf-bbd5-58a1e71a3e9f"
      },
      "source": [
        "A = []\n",
        "n = int(input(\"Enter the number of elements: \"))\n",
        "for i in range(0,n):\n",
        "  element=int(input(\"element \" + str (i+1) + \": \" ))\n",
        "  A.append(element)\n",
        "print(\"The array is :\" + str (A))\n",
        "for i in range(n):\n",
        "  for j in range(n):\n",
        "    if A[i]==A[j] :\n",
        "      check=1\n",
        "      break\n",
        "\n",
        "if check==1:\n",
        "  print(\"All elements are not unique\")\n",
        "else:\n",
        "  print(\"All elements are unique \")"
      ],
      "execution_count": null,
      "outputs": [
        {
          "output_type": "stream",
          "text": [
            "Enter the number of elements: 5\n",
            "element 1: 1\n",
            "element 2: 22\n",
            "element 3: 4\n",
            "element 4: 1\n",
            "element 5: 6\n",
            "The array is :[1, 22, 4, 1, 6]\n",
            "All elements are not unique\n"
          ],
          "name": "stdout"
        }
      ]
    },
    {
      "cell_type": "markdown",
      "metadata": {
        "id": "DRAe2OHtshyA"
      },
      "source": [
        "Write a Python program to check if the elements of a given list are unique or not, by\n",
        "using the set data structure."
      ]
    },
    {
      "cell_type": "code",
      "metadata": {
        "colab": {
          "base_uri": "https://localhost:8080/"
        },
        "id": "itcE_hTrsmW5",
        "outputId": "1bdc0326-a59c-44be-f3d5-ce6d70c37df3"
      },
      "source": [
        "A = []\n",
        "n = int(input(\"Enter the number of elements: \"))\n",
        "for i in range(0,n):\n",
        "  element=int(input(\"element \" + str (i+1) + \": \" ))\n",
        "  A.append(element)\n",
        "print(\"The array is :\" + str (A))\n",
        "check = 0\n",
        "check = len(set(A)) == len(A)\n",
        "if (check):\n",
        "  print(\"All elements are unique\")\n",
        "else :\n",
        "  print (\"All elements are not unique\")"
      ],
      "execution_count": null,
      "outputs": [
        {
          "output_type": "stream",
          "text": [
            "Enter the number of elements: 5\n",
            "element 1: 2\n",
            "element 2: 3\n",
            "element 3: 3\n",
            "element 4: 99\n",
            "element 5: 100\n",
            "The array is :[2, 3, 3, 99, 100]\n",
            "All elements are not unique\n"
          ],
          "name": "stdout"
        }
      ]
    },
    {
      "cell_type": "markdown",
      "metadata": {
        "id": "MWqGNHyxDtCP"
      },
      "source": [
        "Write a python program to remove all duplicates from a list.\n",
        "Eg1. Given list: [1,2,3,3,1,2,10], Resultant list: [1,2,3,10]\n",
        "Eg2. Given list: [1,2,1,2,1,2,1,2,1], Resultant list: [1,2]"
      ]
    },
    {
      "cell_type": "code",
      "metadata": {
        "colab": {
          "base_uri": "https://localhost:8080/"
        },
        "id": "vzwMbMzoD1ip",
        "outputId": "70de61b7-9809-4e52-8ee3-f56e3d27b9b6"
      },
      "source": [
        "A = []\n",
        "uniqA=[]\n",
        "n = int(input(\"Enter the number of elements: \"))\n",
        "for i in range(0,n):\n",
        "  element=int(input(\"element \" + str (i+1) + \": \" ))\n",
        "  A.append(element)\n",
        "print(\"The array is :\" + str (A))\n",
        "uniqA = list(set(A))\n",
        "print(\"The array with unique elements is : \" + str(uniqA))\n"
      ],
      "execution_count": null,
      "outputs": [
        {
          "output_type": "stream",
          "text": [
            "Enter the number of elements: 5\n",
            "element 1: 1\n",
            "element 2: 1\n",
            "element 3: 2\n",
            "element 4: 3\n",
            "element 5: 3\n",
            "The array is :[1, 1, 2, 3, 3]\n",
            "The array with unique elements is : [1, 2, 3]\n"
          ],
          "name": "stdout"
        }
      ]
    },
    {
      "cell_type": "markdown",
      "metadata": {
        "id": "nZCCocKBF_Us"
      },
      "source": [
        "Write a python program to check if a set is a subset of another set.\n",
        "Eg1. Set1: {1,2,3}, Set2: {1,2,3,4,5}, Answer: True\n",
        "Eg2. Set1: {5,8,1}, Set2: {7,5,6,1,4}, Answer: False"
      ]
    },
    {
      "cell_type": "code",
      "metadata": {
        "colab": {
          "base_uri": "https://localhost:8080/"
        },
        "id": "gLyUvHFkGA5j",
        "outputId": "53bfffcb-bdc0-4dd4-f47e-00f5f1aa4a4d"
      },
      "source": [
        "A = set(input(\"Enter array A: \").split())\n",
        "B = set(input(\"Enter array B: \").split())\n",
        "if (B.issubset(A)) :\n",
        "  print(\"B is a subset of A\")\n",
        "else :\n",
        "  print(\"B isn't a subset of A\")"
      ],
      "execution_count": null,
      "outputs": [
        {
          "output_type": "stream",
          "text": [
            "Enter array A: 1 2 3 4 5\n",
            "Enter array B: 3 4 5\n",
            "B is a subset of A\n"
          ],
          "name": "stdout"
        }
      ]
    },
    {
      "cell_type": "markdown",
      "metadata": {
        "id": "NsUvahCVSK1T"
      },
      "source": [
        "Write a python program to compute the element-wise sum of the given tuples.\n",
        "Eg1. Tuple1: (1,2,3), Tuple2: (4,5,6), Resultant tuple: (5,7,9)\n",
        "Eg2. Tuple1: (9,8,7,6), Tuple2: (1,1), Resultant tuple: (10,9,7,6)"
      ]
    },
    {
      "cell_type": "code",
      "metadata": {
        "id": "ZZ3sM5C2SQjJ",
        "colab": {
          "base_uri": "https://localhost:8080/"
        },
        "outputId": "85d12ac0-b027-4bad-e658-e4e8fc67d91d"
      },
      "source": [
        "A = tuple(input(\"Enter tuple A: \").split())\n",
        "B = tuple(input(\"Enter tuple B: \").split())\n",
        "SUM = []\n",
        "if len(A)>len(B):\n",
        "  n=len(B)\n",
        "else:\n",
        "  n=len(A)\n",
        "\n",
        "for i in range(n):\n",
        "  SUM.append(int(A[i])+int(B[i]))\n",
        "\n",
        "if len(A)>len(B):\n",
        "  for i in range(n,len(A)):\n",
        "    SUM.append(int(A[i]))\n",
        "\n",
        "else:\n",
        "  for i in range(n,len(B)):\n",
        "    SUM.append(int(B[i]))\n",
        "\n",
        "print(tuple(SUM))\n"
      ],
      "execution_count": 3,
      "outputs": [
        {
          "output_type": "stream",
          "text": [
            "Enter tuple A: 1 2 3 4 5 \n",
            "Enter tuple B: 6 7 8 9\n",
            "(7, 9, 11, 13, 5)\n"
          ],
          "name": "stdout"
        }
      ]
    },
    {
      "cell_type": "markdown",
      "metadata": {
        "id": "gDhs_A9rhXsd"
      },
      "source": [
        "Write a python program to convert a given tuple of positive integers into an integer.\n",
        "Eg1. Given tuple: (3,2,1), Answer: 321\n",
        "Eg2. Given tuple: (25,2,10), Answer: 25210"
      ]
    },
    {
      "cell_type": "code",
      "metadata": {
        "colab": {
          "base_uri": "https://localhost:8080/"
        },
        "id": "NmZdI5-Yhauy",
        "outputId": "2e7b422b-d8a9-425e-b322-8c5cc6bc4df6"
      },
      "source": [
        "A=tuple(input().split())\n",
        "n = 0\n",
        "for i in A:\n",
        "  n = n*10 + int(i)\n",
        "\n",
        "print(n)"
      ],
      "execution_count": 5,
      "outputs": [
        {
          "output_type": "stream",
          "text": [
            "5 6 7\n",
            "567\n"
          ],
          "name": "stdout"
        }
      ]
    }
  ]
}